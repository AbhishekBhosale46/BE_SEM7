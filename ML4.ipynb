{
 "cells": [
  {
   "cell_type": "code",
   "execution_count": null,
   "id": "758da14a-d3c8-457e-8f9b-af91bc40f6b8",
   "metadata": {},
   "outputs": [],
   "source": [
    "# Given function\n",
    "def func(x):\n",
    "    return (x+3)**2"
   ]
  },
  {
   "cell_type": "code",
   "execution_count": null,
   "id": "15726b6a-2c9f-497e-9699-36780596ba92",
   "metadata": {},
   "outputs": [],
   "source": [
    "# Derivative of the function\n",
    "def derivative(x):\n",
    "    return 2*(x+3)"
   ]
  },
  {
   "cell_type": "code",
   "execution_count": null,
   "id": "a0419e20-3284-47d0-91a6-33c1b9edcf88",
   "metadata": {},
   "outputs": [],
   "source": [
    "# Initial parameters\n",
    "x = 2\n",
    "learning_rate = 0.1\n",
    "num_iterations = 100\n",
    "\n",
    "# Gradient Descent Algorithm\n",
    "for i in range(num_iterations):\n",
    "    gradient = derivative(x)\n",
    "    x = x-learning_rate*gradient\n",
    "    print(f\"Iteration {i+1}: x = {x}, f(x) = {func(x)}\")\n",
    "\n",
    "# Result after Gradient Descent\n",
    "print(\"\\nLocal minimum occurs at x =\", x)\n",
    "print(\"Minimum value of the function is f(x) =\", func(x))"
   ]
  }
 ],
 "metadata": {
  "kernelspec": {
   "display_name": "Python 3 (ipykernel)",
   "language": "python",
   "name": "python3"
  },
  "language_info": {
   "codemirror_mode": {
    "name": "ipython",
    "version": 3
   },
   "file_extension": ".py",
   "mimetype": "text/x-python",
   "name": "python",
   "nbconvert_exporter": "python",
   "pygments_lexer": "ipython3",
   "version": "3.10.6"
  }
 },
 "nbformat": 4,
 "nbformat_minor": 5
}
