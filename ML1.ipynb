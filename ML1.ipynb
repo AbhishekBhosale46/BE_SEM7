{
 "cells": [
  {
   "cell_type": "code",
   "execution_count": null,
   "id": "95300321-d2ec-4084-920c-7872bcc33ad2",
   "metadata": {},
   "outputs": [],
   "source": [
    "import pandas as pd\n",
    "import numpy as np\n",
    "import seaborn as sns\n",
    "from matplotlib import pyplot as plt\n",
    "from sklearn.model_selection import train_test_split\n",
    "from sklearn.preprocessing import StandardScaler\n",
    "from sklearn.linear_model import LinearRegression\n",
    "from sklearn.ensemble import RandomForestRegressor\n",
    "from sklearn.metrics import mean_squared_error, mean_absolute_error, r2_score"
   ]
  },
  {
   "cell_type": "code",
   "execution_count": null,
   "id": "70a35239-34e3-4c59-a1cc-149a29cb9e6d",
   "metadata": {},
   "outputs": [],
   "source": [
    "df = pd.read_csv('uber.csv')\n",
    "df.head()"
   ]
  },
  {
   "cell_type": "code",
   "execution_count": null,
   "id": "f8a7c921-a61c-4896-b6f0-b97014f23c4d",
   "metadata": {},
   "outputs": [],
   "source": [
    "# Removing missing values\n",
    "print(df.isnull().sum())\n",
    "df.dropna(inplace=True)\n",
    "print(df.isnull().sum())"
   ]
  },
  {
   "cell_type": "code",
   "execution_count": null,
   "id": "c82c8b06-0e00-4541-a145-933515df47e0",
   "metadata": {},
   "outputs": [],
   "source": [
    "df.shape\n",
    "df.dtypes\n",
    "df.info()"
   ]
  },
  {
   "cell_type": "code",
   "execution_count": null,
   "id": "821b3f30-7d43-44f6-b222-5afef32d67cd",
   "metadata": {},
   "outputs": [],
   "source": [
    "# Convert pickup_datetime to datetime format\n",
    "df['pickup_datetime'] = pd.to_datetime(df['pickup_datetime'], errors='coerce')"
   ]
  },
  {
   "cell_type": "code",
   "execution_count": null,
   "id": "72e54ed2-2a09-4987-b2ed-03bcc3ba5ca9",
   "metadata": {},
   "outputs": [],
   "source": [
    "# Extract useful features from pickup_datetime\n",
    "df['pickup_day'] = df['pickup_datetime'].dt.day\n",
    "df['pickup_hour'] = df['pickup_datetime'].dt.hour\n",
    "df['pickup_weekday'] = df['pickup_datetime'].dt.weekday"
   ]
  },
  {
   "cell_type": "code",
   "execution_count": null,
   "id": "b4d0dd51-4cbb-4e06-bf32-f5ed8daf1102",
   "metadata": {},
   "outputs": [],
   "source": [
    "# Drop cols as its not required\n",
    "df.drop(['pickup_datetime', 'key', 'Unnamed: 0'], axis=1, inplace=True)"
   ]
  },
  {
   "cell_type": "code",
   "execution_count": null,
   "id": "4ff7edee-0c43-47f5-a03f-2cf892553684",
   "metadata": {},
   "outputs": [],
   "source": [
    "# Box plots before removing outliers\n",
    "plt.figure(figsize=(15,6))\n",
    "sns.boxplot(data=df)\n",
    "plt.show()"
   ]
  },
  {
   "cell_type": "code",
   "execution_count": null,
   "id": "c8f13e21-0824-4e61-8d24-9d344e811307",
   "metadata": {},
   "outputs": [],
   "source": [
    "# Remove coordinates which are invalid\n",
    "incorrect_coordinates = (df.pickup_latitude>90)|(df.pickup_latitude<-90)|(df.dropoff_latitude>90)|(df.dropoff_latitude<-90)|(df.pickup_longitude>180)|(df.pickup_longitude<-180)|(df.dropoff_longitude>90)|(df.dropoff_longitude<-90)\n",
    "df = df[~incorrect_coordinates]"
   ]
  },
  {
   "cell_type": "code",
   "execution_count": null,
   "id": "dc86fdef-1a1c-4a63-a641-a81790a59187",
   "metadata": {},
   "outputs": [],
   "source": [
    "def remove_outliers(df, column_name):\n",
    "    Q1 = df[column_name].quantile(0.25)\n",
    "    Q3 = df[column_name].quantile(0.75) \n",
    "    IQR = Q3 - Q1\n",
    "    lower_bound = Q1 - 1.5 * IQR\n",
    "    upper_bound = Q3 + 1.5 * IQR\n",
    "    outliers = (df[column_name] < lower_bound) | (df[column_name] > upper_bound)\n",
    "    new_df = df[~outliers]\n",
    "    return new_df"
   ]
  },
  {
   "cell_type": "code",
   "execution_count": null,
   "id": "98fb703c-94e0-4d16-9ce8-f30de6738734",
   "metadata": {},
   "outputs": [],
   "source": [
    "new_df = df.copy()\n",
    "new_df.head()\n",
    "for col in df.columns:\n",
    "    new_df = remove_outliers(new_df, col)\n",
    "new_df.head()\n",
    "df = new_df"
   ]
  },
  {
   "cell_type": "code",
   "execution_count": null,
   "id": "b8a7a423-40c2-4f8b-addb-e7997b28914a",
   "metadata": {},
   "outputs": [],
   "source": [
    "# Calculate dstance\n",
    "def get_distance(longx, latx, longy, laty):\n",
    "    diffLat = laty-latx\n",
    "    diffLong = longy-longx\n",
    "    return np.sqrt(diffLat**2+diffLong**2)\n",
    "df['distance'] = get_distance(df['pickup_longitude'], df['pickup_latitude'], df['dropoff_longitude'], df['dropoff_latitude'])"
   ]
  },
  {
   "cell_type": "code",
   "execution_count": null,
   "id": "6367c380-809e-4fc1-b061-188a85dff81f",
   "metadata": {},
   "outputs": [],
   "source": [
    "# Cleaned dataset\n",
    "df.head()"
   ]
  },
  {
   "cell_type": "code",
   "execution_count": null,
   "id": "2db2f5ef-580f-48b1-99c1-e400896804b3",
   "metadata": {},
   "outputs": [],
   "source": [
    "# Plot correlation matrix\n",
    "plt.figure(figsize=(10, 6))\n",
    "sns.heatmap(df.corr(), annot=True)\n",
    "plt.show()"
   ]
  },
  {
   "cell_type": "code",
   "execution_count": null,
   "id": "e3428f61-4289-4f31-852e-425eb0ab35e6",
   "metadata": {},
   "outputs": [],
   "source": [
    "# Spliting train and test data\n",
    "X = df[[\"pickup_longitude\", \"pickup_latitude\", \"dropoff_longitude\", \"dropoff_latitude\", \"distance\"]]\n",
    "y = df['fare_amount']\n",
    "X_train, X_test, y_train, y_test = train_test_split(X, y, test_size=0.3)"
   ]
  },
  {
   "cell_type": "code",
   "execution_count": null,
   "id": "220442a8-adff-4c37-981b-d06cc6ba681f",
   "metadata": {},
   "outputs": [],
   "source": [
    "# LR MODEL\n",
    "\n",
    "# Fit the model\n",
    "lr_model = LinearRegression()\n",
    "lr_model.fit(X_train, y_train)\n",
    "\n",
    "# Predict on test data\n",
    "y_pred_lr = lr_model.predict(X_test)"
   ]
  },
  {
   "cell_type": "code",
   "execution_count": null,
   "id": "46ea4d14-f2f3-4d3c-a66e-509bde0dfcc6",
   "metadata": {},
   "outputs": [],
   "source": [
    "# RF MODEL\n",
    "\n",
    "# Fit the model\n",
    "rf_model = RandomForestRegressor(random_state=42)\n",
    "rf_model.fit(X_train, y_train)\n",
    "\n",
    "# Predict on test data\n",
    "y_pred_rf = rf_model.predict(X_test)"
   ]
  },
  {
   "cell_type": "code",
   "execution_count": null,
   "id": "be76af73-ad2b-4226-acce-728a8b49be56",
   "metadata": {},
   "outputs": [],
   "source": [
    "# Evaluating the results\n",
    "\n",
    "def evaluate_model(y_test, y_pred, model_name):\n",
    "    r2 = r2_score(y_test, y_pred)\n",
    "    rmse = np.sqrt(mean_squared_error(y_test, y_pred))\n",
    "    mae = mean_absolute_error(y_test, y_pred)\n",
    "    print(f\"{model_name} - R2 Score: {r2}, RMSE: {rmse}, MAE: {mae}\")\n",
    "\n",
    "evaluate_model(y_test, y_pred_lr, \"Linear Regression\")\n",
    "evaluate_model(y_test, y_pred_rf, \"Random Forest\")"
   ]
  }
 ],
 "metadata": {
  "kernelspec": {
   "display_name": "Python 3 (ipykernel)",
   "language": "python",
   "name": "python3"
  },
  "language_info": {
   "codemirror_mode": {
    "name": "ipython",
    "version": 3
   },
   "file_extension": ".py",
   "mimetype": "text/x-python",
   "name": "python",
   "nbconvert_exporter": "python",
   "pygments_lexer": "ipython3",
   "version": "3.10.6"
  }
 },
 "nbformat": 4,
 "nbformat_minor": 5
}
