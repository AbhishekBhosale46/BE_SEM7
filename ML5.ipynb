{
 "cells": [
  {
   "cell_type": "code",
   "execution_count": null,
   "id": "a19354a5-af4e-4a54-9e61-63336a53b055",
   "metadata": {},
   "outputs": [],
   "source": [
    "import pandas as pd\n",
    "import numpy as np\n",
    "from matplotlib import pyplot as plt\n",
    "from sklearn.cluster import KMeans\n",
    "from sklearn.preprocessing import StandardScaler"
   ]
  },
  {
   "cell_type": "code",
   "execution_count": null,
   "id": "351542a4-ab4e-4b1e-8bbc-d0baaf759645",
   "metadata": {
    "scrolled": true
   },
   "outputs": [],
   "source": [
    "df = pd.read_csv('sales.csv', sep=\",\", encoding='Latin-1')\n",
    "df.head()\n",
    "df.info()\n",
    "df.dropna()"
   ]
  },
  {
   "cell_type": "code",
   "execution_count": null,
   "id": "6449fd60-5ac0-4680-b0ac-9b83b30ba5ec",
   "metadata": {},
   "outputs": [],
   "source": [
    "# Choosing feature varriables\n",
    "features = df[['QUANTITYORDERED', 'PRICEEACH', 'SALES']]"
   ]
  },
  {
   "cell_type": "code",
   "execution_count": null,
   "id": "bf125a12-03c5-4f48-b7d7-be66c650e35f",
   "metadata": {},
   "outputs": [],
   "source": [
    "# Checking for null values and cleaning\n",
    "print(features.isnull().sum())"
   ]
  },
  {
   "cell_type": "code",
   "execution_count": null,
   "id": "128f44c9-4715-4e14-abe9-10a0488caa22",
   "metadata": {},
   "outputs": [],
   "source": [
    "# Standardizing features\n",
    "scaler = StandardScaler()\n",
    "scaled_features = scaler.fit_transform(features)"
   ]
  },
  {
   "cell_type": "code",
   "execution_count": null,
   "id": "cd8055f2-0d21-487e-afed-93bc544c8691",
   "metadata": {},
   "outputs": [],
   "source": [
    "# Determine the Optimal Number of Clusters using the Elbow Method\n",
    "inertia = []\n",
    "for k in range(1, 15):\n",
    "    kmeans = KMeans(n_clusters=k, random_state=42)\n",
    "    kmeans.fit(scaled_features)\n",
    "    inertia.append(kmeans.inertia_)\n",
    "plt.figure(figsize=(8,6))\n",
    "plt.plot(range(1,15), inertia, marker='o')\n",
    "plt.title('Elbow Method for Optimal k')\n",
    "plt.xlabel('Number of Clusters')\n",
    "plt.ylabel('Inertia')\n",
    "plt.show()"
   ]
  },
  {
   "cell_type": "code",
   "execution_count": null,
   "id": "ecf80f7c-291e-4d3b-8e69-129b52bca21c",
   "metadata": {},
   "outputs": [],
   "source": [
    "# Applying kmeans using the optimal number of clusters determined using elbow method\n",
    "optimal_k = 5\n",
    "kmeans = KMeans(n_clusters=optimal_k, random_state=42)\n",
    "kmeans.fit(scaled_features)\n",
    "df['Cluster'] = kmeans.predict(scaled_features)\n",
    "print(df[['QUANTITYORDERED', 'PRICEEACH', 'SALES', 'Cluster']].head())"
   ]
  },
  {
   "cell_type": "code",
   "execution_count": null,
   "id": "479535c5-7a13-4f4d-ae6d-05ad499e28d1",
   "metadata": {},
   "outputs": [],
   "source": [
    "# Visualize clusters\n",
    "plt.figure(figsize=(10, 6))\n",
    "plt.scatter(scaled_features[:, 1], scaled_features[:, 2], c=df['Cluster'], cmap='viridis', marker='o')\n",
    "plt.title('K-Means Clustering')\n",
    "plt.xlabel('Standardized QUANTITYORDERED')\n",
    "plt.ylabel('Standardized PRICEEACH')\n",
    "plt.colorbar(label='Cluster')\n",
    "plt.show()"
   ]
  }
 ],
 "metadata": {
  "kernelspec": {
   "display_name": "Python 3 (ipykernel)",
   "language": "python",
   "name": "python3"
  },
  "language_info": {
   "codemirror_mode": {
    "name": "ipython",
    "version": 3
   },
   "file_extension": ".py",
   "mimetype": "text/x-python",
   "name": "python",
   "nbconvert_exporter": "python",
   "pygments_lexer": "ipython3",
   "version": "3.10.6"
  }
 },
 "nbformat": 4,
 "nbformat_minor": 5
}
